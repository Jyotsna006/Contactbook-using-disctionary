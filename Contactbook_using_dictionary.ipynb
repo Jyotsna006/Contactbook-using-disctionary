{
 "cells": [
  {
   "cell_type": "code",
   "execution_count": 4,
   "id": "42e4be18-f0b1-4ad6-8469-6c620fc77bd4",
   "metadata": {},
   "outputs": [
    {
     "name": "stdout",
     "output_type": "stream",
     "text": [
      "1. Adding contact\n",
      "2. Search contacts\n",
      "3. Delete contacts\n",
      "4. Display contact\n",
      "5. exit\n"
     ]
    },
    {
     "name": "stdin",
     "output_type": "stream",
     "text": [
      "enter the entry which you want to do? add\n",
      "how many entries do you want to add? 2\n",
      "enter the name a\n",
      "enter the place d\n"
     ]
    },
    {
     "name": "stdout",
     "output_type": "stream",
     "text": [
      "added: a--d\n",
      ".....contact added successfully.....\n"
     ]
    },
    {
     "name": "stdin",
     "output_type": "stream",
     "text": [
      "enter the name b\n",
      "enter the place c\n"
     ]
    },
    {
     "name": "stdout",
     "output_type": "stream",
     "text": [
      "added: b--c\n",
      ".....contact added successfully.....\n",
      "1. Adding contact\n",
      "2. Search contacts\n",
      "3. Delete contacts\n",
      "4. Display contact\n",
      "5. exit\n"
     ]
    },
    {
     "name": "stdin",
     "output_type": "stream",
     "text": [
      "enter the entry which you want to do? search\n",
      "which entry do you want to search b\n"
     ]
    },
    {
     "name": "stdout",
     "output_type": "stream",
     "text": [
      "b:c\n",
      "1. Adding contact\n",
      "2. Search contacts\n",
      "3. Delete contacts\n",
      "4. Display contact\n",
      "5. exit\n"
     ]
    },
    {
     "name": "stdin",
     "output_type": "stream",
     "text": [
      "enter the entry which you want to do? display\n"
     ]
    },
    {
     "name": "stdout",
     "output_type": "stream",
     "text": [
      "{'a': 'd', 'b': 'c'}\n",
      "1. Adding contact\n",
      "2. Search contacts\n",
      "3. Delete contacts\n",
      "4. Display contact\n",
      "5. exit\n"
     ]
    },
    {
     "name": "stdin",
     "output_type": "stream",
     "text": [
      "enter the entry which you want to do? exit\n",
      "do you want to exit? yes\n"
     ]
    },
    {
     "name": "stdout",
     "output_type": "stream",
     "text": [
      "........THANK YOU VISIT AGAIN......\n"
     ]
    }
   ],
   "source": [
    "contact={}\n",
    "while True:\n",
    "    print(\"1. Adding contact\")\n",
    "    print(\"2. Search contacts\")\n",
    "    print(\"3. Delete contacts\")\n",
    "    print(\"4. Display contact\")\n",
    "    print(\"5. exit\")\n",
    "    ask=input(\"enter the entry which you want to do?\")\n",
    "    if ask==\"add\":\n",
    "        q1=int(input(\"how many entries do you want to add?\"))\n",
    "        for i in range(q1):\n",
    "            name=input(\"enter the name\")\n",
    "            place=input(\"enter the place\")\n",
    "            contact[name]=place\n",
    "            print(f\"added: {name}--{place}\")\n",
    "            print(\".....contact added successfully.....\")\n",
    "    elif ask==\"search\":\n",
    "        q2=input(\"which entry do you want to search\")\n",
    "        if q2 in contact:\n",
    "            print(f\"{q2}:{contact[q2]}\")\n",
    "        else:\n",
    "            print(\"sorry not availabe\")\n",
    "    elif ask==\"delete\":\n",
    "        q3=input(\"which name you want to delete?\")\n",
    "        if q3 in contact:\n",
    "            contact.pop(q3)\n",
    "            print(\"......delete successfully......\")\n",
    "            print(contact)\n",
    "        else:\n",
    "            print(\"sorry not available\")\n",
    "    elif ask==\"display\":\n",
    "            print(contact)\n",
    "    elif ask==\"exit\":\n",
    "        q4=input(\"do you want to exit?\")\n",
    "        if q4==\"yes\":\n",
    "            print(\"........THANK YOU VISIT AGAIN......\")\n",
    "            break\n",
    "        else:\n",
    "            continue"
   ]
  },
  {
   "cell_type": "code",
   "execution_count": null,
   "id": "e1d2bdfd-e81f-474d-93c3-326767571913",
   "metadata": {},
   "outputs": [],
   "source": []
  }
 ],
 "metadata": {
  "kernelspec": {
   "display_name": "Python [conda env:base] *",
   "language": "python",
   "name": "conda-base-py"
  },
  "language_info": {
   "codemirror_mode": {
    "name": "ipython",
    "version": 3
   },
   "file_extension": ".py",
   "mimetype": "text/x-python",
   "name": "python",
   "nbconvert_exporter": "python",
   "pygments_lexer": "ipython3",
   "version": "3.12.7"
  }
 },
 "nbformat": 4,
 "nbformat_minor": 5
}
